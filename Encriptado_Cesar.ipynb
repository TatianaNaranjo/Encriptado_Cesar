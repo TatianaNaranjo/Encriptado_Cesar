{
 "cells": [
  {
   "cell_type": "markdown",
   "metadata": {},
   "source": [
    "# ENCRIPTADO CESAR"
   ]
  },
  {
   "cell_type": "markdown",
   "metadata": {},
   "source": [
    "El encriptado César hace que las letras del abecedario se cambian de acuerdo con un patrón que llamaremos clave."
   ]
  },
  {
   "cell_type": "code",
   "execution_count": 1,
   "metadata": {},
   "outputs": [],
   "source": [
    "ALFABETO= list(\"ABCDEFGHIJKLMNÑOPQRSTUVWXYZ\")"
   ]
  },
  {
   "cell_type": "markdown",
   "metadata": {},
   "source": [
    "FUNCIÓN PARA CREAR EL ENCRIPTADOR CESAR"
   ]
  },
  {
   "cell_type": "code",
   "execution_count": 2,
   "metadata": {},
   "outputs": [
    {
     "data": {
      "text/plain": [
       "'A'"
      ]
     },
     "execution_count": 2,
     "metadata": {},
     "output_type": "execute_result"
    }
   ],
   "source": [
    "def cesar (caracter,clave):\n",
    "    posicion= ALFABETO.index(caracter)\n",
    "    nueva_posicion= posicion + clave\n",
    "    nueva_posicion= nueva_posicion % len(ALFABETO) # UTILIZAMOS RESIDUO PARA VER LA POSICION Y EVITAR QUE NOS SALTE ERROR CON LA LETRA Z\n",
    "    return ALFABETO[nueva_posicion]\n",
    "cesar(\"Z\",1) #Probamos la letra z el resultado debe ser letra A"
   ]
  },
  {
   "cell_type": "markdown",
   "metadata": {},
   "source": [
    "FUNCIÓN PARA CREAR EL MENSAJE ENCRIPTADO"
   ]
  },
  {
   "cell_type": "code",
   "execution_count": 3,
   "metadata": {},
   "outputs": [
    {
     "data": {
      "text/plain": [
       "'ABS'"
      ]
     },
     "execution_count": 3,
     "metadata": {},
     "output_type": "execute_result"
    }
   ],
   "source": [
    "def encriptar(mensaje,clave):\n",
    "    resultado = \"\"\n",
    "    for caracter in mensaje:\n",
    "        nuevo_caracter = cesar(caracter,clave)\n",
    "        resultado += nuevo_caracter\n",
    "    return resultado\n",
    "encriptar(\"ZAR\", 1)# probamos la palabra ZAR el resultado debe ser ABS"
   ]
  }
 ],
 "metadata": {
  "kernelspec": {
   "display_name": "Python 3.10.2 64-bit",
   "language": "python",
   "name": "python3"
  },
  "language_info": {
   "codemirror_mode": {
    "name": "ipython",
    "version": 3
   },
   "file_extension": ".py",
   "mimetype": "text/x-python",
   "name": "python",
   "nbconvert_exporter": "python",
   "pygments_lexer": "ipython3",
   "version": "3.10.2"
  },
  "orig_nbformat": 4,
  "vscode": {
   "interpreter": {
    "hash": "110fe3fb9777db4ce1f884af3cc527a40b2c98427ad17781c021ef692bd3d28d"
   }
  }
 },
 "nbformat": 4,
 "nbformat_minor": 2
}
